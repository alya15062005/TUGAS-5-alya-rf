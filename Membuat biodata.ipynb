{
 "cells": [
  {
   "cell_type": "code",
   "execution_count": 5,
   "id": "cfdf69d6",
   "metadata": {},
   "outputs": [
    {
     "name": "stdout",
     "output_type": "stream",
     "text": [
      "masukan nama :alyaa rojwa fauziah\n",
      "masukan umur :18\n",
      "masukan tanggal lahir :15062005\n",
      "masukan hobi :membaca\n",
      "masukan cita cita :jurnalis\n",
      "masukan alamat :karang tengah\n",
      "('alyaa rojwa fauziah', 18, 15062005, 'membaca', 'jurnalis', 'karang tengah')\n"
     ]
    }
   ],
   "source": [
    "nama = input('masukan nama :')\n",
    "umur = input ('masukan umur :')\n",
    "tanggal_lahir = input ('masukan tanggal lahir :')\n",
    "hobi = input ('masukan hobi :')\n",
    "cita_cita = input ('masukan cita cita :')\n",
    "alamat = input ('masukan alamat :')\n",
    "\n",
    "\n",
    "biodata = nama,int(umur),int(tanggal_lahir),hobi,cita_cita,alamat\n",
    "print(biodata)"
   ]
  },
  {
   "cell_type": "code",
   "execution_count": null,
   "id": "400bb0e4",
   "metadata": {},
   "outputs": [],
   "source": []
  },
  {
   "cell_type": "code",
   "execution_count": null,
   "id": "ab51d364",
   "metadata": {},
   "outputs": [],
   "source": []
  },
  {
   "cell_type": "code",
   "execution_count": null,
   "id": "8eb3529e",
   "metadata": {},
   "outputs": [],
   "source": []
  },
  {
   "cell_type": "code",
   "execution_count": null,
   "id": "f84a1bd9",
   "metadata": {},
   "outputs": [],
   "source": []
  }
 ],
 "metadata": {
  "kernelspec": {
   "display_name": "Python 3 (ipykernel)",
   "language": "python",
   "name": "python3"
  },
  "language_info": {
   "codemirror_mode": {
    "name": "ipython",
    "version": 3
   },
   "file_extension": ".py",
   "mimetype": "text/x-python",
   "name": "python",
   "nbconvert_exporter": "python",
   "pygments_lexer": "ipython3",
   "version": "3.11.5"
  }
 },
 "nbformat": 4,
 "nbformat_minor": 5
}
